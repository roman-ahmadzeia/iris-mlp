{
 "cells": [
  {
   "cell_type": "markdown",
   "id": "8b14cabe-8a0f-43dd-bb29-4930aee7b80c",
   "metadata": {
    "editable": false
   },
   "source": [
    "Classification of Iris Using MLP"
   ]
  },
  {
   "cell_type": "code",
   "execution_count": null,
   "id": "c65b6b3b-28f3-450a-8ece-d0672ee03838",
   "metadata": {
    "editable": false,
    "tags": []
   },
   "outputs": [],
   "source": [
    "import numpy as np\n",
    "import pandas as pd\n",
    "import warnings\n",
    "warnings.filterwarnings('ignore')"
   ]
  },
  {
   "cell_type": "code",
   "execution_count": null,
   "id": "6f3dd69d-4fd6-4de5-97cf-cdf971bc20c4",
   "metadata": {
    "editable": false,
    "tags": []
   },
   "outputs": [],
   "source": [
    "\n",
    "df = pd.read_csv('iris.csv')"
   ]
  },
  {
   "cell_type": "code",
   "execution_count": null,
   "id": "fa6525ce-0817-47b3-ba01-cb9ae9ed1d34",
   "metadata": {
    "editable": false,
    "tags": []
   },
   "outputs": [],
   "source": [
    "import torch\n",
    "from torch.utils.data import (\n",
    "    DataLoader,\n",
    "    TensorDataset,\n",
    "    Dataset\n",
    ")"
   ]
  },
  {
   "cell_type": "code",
   "execution_count": null,
   "id": "1e4b1686",
   "metadata": {
    "tags": []
   },
   "outputs": [],
   "source": [
    "\n",
    "def make_dataset(df: pd.DataFrame) -> Dataset:\n",
    "    \n",
    "    features = torch.tensor(df[df.columns[:-1]].values, dtype=torch.float32)\n",
    "    targets = torch.tensor(df[df.columns[-1]].values, dtype=torch.int64)\n",
    "    \n",
    "    return TensorDataset(features, targets)\n",
    "    \n",
    "    "
   ]
  },
  {
   "cell_type": "code",
   "execution_count": null,
   "id": "07383258-23ef-400c-b130-9dac651ecad0",
   "metadata": {
    "editable": false,
    "tags": []
   },
   "outputs": [
    {
     "name": "stdout",
     "output_type": "stream",
     "text": [
      "First input tensor([6.1000, 2.8000, 4.7000, 1.2000]).  Its dtype must be torch.float32.\n",
      "First output 1.  Its dtype must be torch.int64.\n"
     ]
    }
   ],
   "source": [
    "\n",
    "train_dataset = make_dataset(df)\n",
    "(x, y) = train_dataset[0]\n",
    "print(f\"First input {x}.  Its dtype must be {x.dtype}.\")\n",
    "print(f\"First output {y}.  Its dtype must be {y.dtype}.\")"
   ]
  },
  {
   "cell_type": "markdown",
   "id": "750872ed-506a-4105-a53b-dfd17bde8395",
   "metadata": {
    "editable": false
   },
   "source": [
    "implement `make_dataloader` which converts\n",
    "`Dataset` to `DataLoader` with specified `batch_size` and `shuffle` flag.\n",
    "\n",
    "Refer to https://pytorch.org/tutorials/beginner/basics/data_tutorial.html#preparing-your-data-for-training-with-dataloaders"
   ]
  },
  {
   "cell_type": "code",
   "execution_count": null,
   "id": "34a9115d",
   "metadata": {
    "tags": []
   },
   "outputs": [],
   "source": [
    "\n",
    "def make_dataloader(dataset: Dataset, batch_size:int, shuffle:bool) -> DataLoader:\n",
    "    return DataLoader(dataset, batch_size, shuffle=shuffle)"
   ]
  },
  {
   "cell_type": "code",
   "execution_count": null,
   "id": "28e1fbee-5e11-47f2-871e-7d15a087e6d3",
   "metadata": {
    "editable": false,
    "tags": []
   },
   "outputs": [
    {
     "data": {
      "text/plain": [
       "[tensor([[6.1000, 2.8000, 4.7000, 1.2000],\n",
       "         [5.4000, 3.9000, 1.3000, 0.4000],\n",
       "         [6.5000, 3.0000, 5.8000, 2.2000],\n",
       "         [5.1000, 3.5000, 1.4000, 0.3000],\n",
       "         [5.9000, 3.0000, 4.2000, 1.5000]]),\n",
       " tensor([1, 0, 2, 0, 1])]"
      ]
     },
     "execution_count": 8,
     "metadata": {},
     "output_type": "execute_result"
    }
   ],
   "source": [
    "\n",
    "train_dataloader = make_dataloader(train_dataset, shuffle=False, batch_size=5)\n",
    "first_batch = next(iter(train_dataloader))\n",
    "first_batch"
   ]
  },
  {
   "cell_type": "markdown",
   "id": "5f4bf1d6-31ab-448e-b1a2-4e506a09d3ae",
   "metadata": {
    "editable": false
   },
   "source": [
    "implement a neural network module that performs\n",
    "simple linear classification.\n",
    "\n",
    "$$ y_\\mathrm{pred} = xW + b $$\n",
    "\n",
    "`nn.Linear(...)` as a layer,\n",
    "name the attribute in the `LinearClassifier` as `linear`"
   ]
  },
  {
   "cell_type": "code",
   "execution_count": null,
   "id": "83c229de-802e-46ca-aff1-ac12312e497d",
   "metadata": {
    "editable": false,
    "tags": []
   },
   "outputs": [],
   "source": [
    "from torch import nn\n",
    "from torchinfo import summary"
   ]
  },
  {
   "cell_type": "code",
   "execution_count": null,
   "id": "b96b49db",
   "metadata": {
    "tags": []
   },
   "outputs": [],
   "source": [
    "\n",
    "class LinearClassifier(nn.Module):\n",
    "    def __init__(self):\n",
    "        super().__init__()\n",
    "        self.linear = nn.Linear(4,3)\n",
    "        \n",
    "    def forward(self, x):\n",
    "        return self.linear(x)"
   ]
  },
  {
   "cell_type": "code",
   "execution_count": null,
   "id": "12cb5a89-7891-49d1-affa-4c7b1cd124bc",
   "metadata": {
    "editable": false,
    "tags": []
   },
   "outputs": [
    {
     "data": {
      "text/plain": [
       "==========================================================================================\n",
       "Layer (type:depth-idx)                   Output Shape              Param #\n",
       "==========================================================================================\n",
       "LinearClassifier                         [32, 3]                   --\n",
       "├─Linear: 1-1                            [32, 3]                   15\n",
       "==========================================================================================\n",
       "Total params: 15\n",
       "Trainable params: 15\n",
       "Non-trainable params: 0\n",
       "Total mult-adds (M): 0.00\n",
       "==========================================================================================\n",
       "Input size (MB): 0.00\n",
       "Forward/backward pass size (MB): 0.00\n",
       "Params size (MB): 0.00\n",
       "Estimated Total Size (MB): 0.00\n",
       "=========================================================================================="
      ]
     },
     "execution_count": 11,
     "metadata": {},
     "output_type": "execute_result"
    }
   ],
   "source": [
    "\n",
    "m = LinearClassifier()\n",
    "summary(m, input_size=(32,4))"
   ]
  },
  {
   "cell_type": "markdown",
   "id": "f4f8919b-c3bc-4bf9-851e-fcd507ee5b6c",
   "metadata": {
    "editable": false
   },
   "source": [
    "training loop to train the linear classifier and inspect the accuracy."
   ]
  },
  {
   "cell_type": "code",
   "execution_count": null,
   "id": "1a24f3a1-43cc-4b35-a906-91da00f865ee",
   "metadata": {
    "editable": false,
    "tags": []
   },
   "outputs": [],
   "source": [
    "from torch.optim import (Optimizer, Adam)\n",
    "from torch.nn.functional import cross_entropy\n",
    "from torchmetrics import Accuracy"
   ]
  },
  {
   "cell_type": "code",
   "execution_count": null,
   "id": "4dcff6c5-c061-4519-97ec-65f82b1fa0d3",
   "metadata": {
    "editable": false,
    "tags": []
   },
   "outputs": [],
   "source": [
    "def train(model: nn.Module, optimizer: Optimizer, dataloader: DataLoader, epochs: int):\n",
    "    history = []\n",
    "    accuracy = Accuracy(task='multiclass', num_classes=3)\n",
    "    for epoch in range(epochs):\n",
    "        for (x, target) in dataloader:\n",
    "            pred = model(x)\n",
    "            loss = cross_entropy(pred, target)\n",
    "            loss.backward()\n",
    "            optimizer.step()\n",
    "            optimizer.zero_grad()\n",
    "        metrics = {\n",
    "            'epoch': epoch,\n",
    "            'loss': loss.item(),\n",
    "            'acc': accuracy(pred, target).item()\n",
    "        }\n",
    "        if epoch % (epochs // 10) == 0:\n",
    "            print(\"{epoch}: loss={loss:.4f}, acc={acc:.2f}\".format(**metrics))\n",
    "        history.append(metrics)\n",
    "    return pd.DataFrame(history)"
   ]
  },
  {
   "cell_type": "code",
   "execution_count": null,
   "id": "9726286c",
   "metadata": {
    "tags": []
   },
   "outputs": [
    {
     "name": "stdout",
     "output_type": "stream",
     "text": [
      "0: loss=1.8345, acc=0.41\n",
      "10: loss=1.3996, acc=0.41\n",
      "20: loss=1.1631, acc=0.59\n",
      "30: loss=1.0336, acc=0.77\n",
      "40: loss=0.9858, acc=0.77\n",
      "50: loss=0.9510, acc=0.73\n",
      "60: loss=0.9100, acc=0.77\n",
      "70: loss=0.8680, acc=0.77\n",
      "80: loss=0.8281, acc=0.77\n",
      "90: loss=0.7911, acc=0.77\n"
     ]
    }
   ],
   "source": [
    "\n",
    "dataloader = make_dataloader(train_dataset, shuffle=False, batch_size=32)\n",
    "linearclassifier = LinearClassifier()\n",
    "optimizer = Adam(linearclassifier.parameters(), lr=0.001)\n",
    "\n",
    "history_linear = train(linearclassifier, optimizer, dataloader, 100)"
   ]
  },
  {
   "cell_type": "code",
   "execution_count": null,
   "id": "fe715ec5-bcd2-4fd8-8642-6440239133c2",
   "metadata": {
    "editable": false,
    "tags": []
   },
   "outputs": [
    {
     "name": "stdout",
     "output_type": "stream",
     "text": [
      "linear classifier acc > 50%? True\n",
      "linear classifier acc < 90%? True\n"
     ]
    }
   ],
   "source": [
    "\n",
    "print(\"linear classifier acc > 50%?\", history_linear.acc.iloc[-1] > 0.5)\n",
    "print(\"linear classifier acc < 90%?\", history_linear.acc.iloc[-1] < 0.9)"
   ]
  },
  {
   "cell_type": "code",
   "execution_count": null,
   "id": "6ca5f5cd-1b00-4973-8b28-bad040dbd9b1",
   "metadata": {
    "editable": false,
    "tags": []
   },
   "outputs": [
    {
     "data": {
      "image/png": "[encoded data removed]",
      "text/plain": [
       "<Figure size 1000x400 with 2 Axes>"
      ]
     },
     "metadata": {},
     "output_type": "display_data"
    }
   ],
   "source": [
    "\n",
    "import matplotlib.pyplot as plt\n",
    "fig, axes = plt.subplots(ncols=2, figsize=(10,4))\n",
    "history_linear.loss.plot.line(ax=axes[0])\n",
    "history_linear.acc.plot.line(ax=axes[1]);"
   ]
  },
  {
   "cell_type": "markdown",
   "id": "ae76286b-00a9-4b2f-b37b-f2466ab347de",
   "metadata": {
    "editable": false
   },
   "source": [
    "\n",
    "\n",
    " a multi-layer perceptron (MLP)\n",
    "with a single hidden layer of 100 neurons.\n",
    "\n",
    "- `linear1`: the hidden layer with 100 neurons.\n",
    "- `act1`: the ReLU activation function.\n",
    "- `output`: the output layer that outputs the logits over the 3 categories.\n",
    "\n",
    "Refer to: http://db.science.uoit.ca/csci4050u/2_fitting_2d/03_mlp.html"
   ]
  },
  {
   "cell_type": "code",
   "execution_count": null,
   "id": "25814370",
   "metadata": {
    "tags": []
   },
   "outputs": [],
   "source": [
    "\n",
    "class MLPClassifier(nn.Module):\n",
    "    def __init__(self):\n",
    "        super().__init__()\n",
    "        \n",
    "        self.linear1 = nn.Linear(4, 100)\n",
    "        self.act1 = nn.ReLU()\n",
    "        self.output = nn.Linear(100, 3)\n",
    "        \n",
    "\n",
    "    def forward(self, x):\n",
    "        x = self.linear1(x)\n",
    "        x = self.act1(x)\n",
    "        x = self.output(x)\n",
    "        return x\n"
   ]
  },
  {
   "cell_type": "code",
   "execution_count": null,
   "id": "8d6ed4f0-fca4-491c-aa2a-8413fae8311a",
   "metadata": {
    "editable": false,
    "tags": []
   },
   "outputs": [
    {
     "data": {
      "text/plain": [
       "==========================================================================================\n",
       "Layer (type:depth-idx)                   Output Shape              Param #\n",
       "==========================================================================================\n",
       "MLPClassifier                            [32, 3]                   --\n",
       "├─Linear: 1-1                            [32, 100]                 500\n",
       "├─ReLU: 1-2                              [32, 100]                 --\n",
       "├─Linear: 1-3                            [32, 3]                   303\n",
       "==========================================================================================\n",
       "Total params: 803\n",
       "Trainable params: 803\n",
       "Non-trainable params: 0\n",
       "Total mult-adds (M): 0.03\n",
       "==========================================================================================\n",
       "Input size (MB): 0.00\n",
       "Forward/backward pass size (MB): 0.03\n",
       "Params size (MB): 0.00\n",
       "Estimated Total Size (MB): 0.03\n",
       "=========================================================================================="
      ]
     },
     "execution_count": 16,
     "metadata": {},
     "output_type": "execute_result"
    }
   ],
   "source": [
    "\n",
    "m = MLPClassifier()\n",
    "summary(m, input_size=(32,4))"
   ]
  },
  {
   "cell_type": "code",
   "execution_count": null,
   "id": "060632aa-4adf-4e58-8c54-11d0f6f9e363",
   "metadata": {
    "editable": false,
    "tags": []
   },
   "outputs": [
    {
     "name": "stdout",
     "output_type": "stream",
     "text": [
      "0: loss=1.1802, acc=0.23\n",
      "10: loss=0.5976, acc=0.82\n",
      "20: loss=0.4076, acc=0.91\n",
      "30: loss=0.3173, acc=0.95\n",
      "40: loss=0.2554, acc=0.95\n",
      "50: loss=0.2079, acc=0.95\n",
      "60: loss=0.1719, acc=0.95\n",
      "70: loss=0.1450, acc=0.95\n",
      "80: loss=0.1247, acc=0.95\n",
      "90: loss=0.1094, acc=0.95\n"
     ]
    }
   ],
   "source": [
    "\n",
    "# training the MLP model\n",
    "\n",
    "mlp = MLPClassifier()\n",
    "optimizer = Adam(mlp.parameters())\n",
    "dataloader = make_dataloader(train_dataset, shuffle=False, batch_size=32)\n",
    "\n",
    "history_mlp = train(mlp, optimizer, dataloader, 100)"
   ]
  },
  {
   "cell_type": "code",
   "execution_count": null,
   "id": "c5073c24-e06f-4caf-abe5-40c86ed54bc9",
   "metadata": {
    "editable": false,
    "tags": []
   },
   "outputs": [
    {
     "data": {
      "text/plain": [
       "True"
      ]
     },
     "execution_count": 18,
     "metadata": {},
     "output_type": "execute_result"
    }
   ],
   "source": [
    "\n",
    "history_mlp.acc.iloc[-1] > 0.9"
   ]
  },
  {
   "cell_type": "code",
   "execution_count": null,
   "id": "5bbe7cea-2912-4462-ae4d-8c091e930e2c",
   "metadata": {
    "editable": false,
    "tags": []
   },
   "outputs": [
    {
     "data": {
      "image/png": "[encoded data removed]",
      "text/plain": [
       "<Figure size 1000x400 with 2 Axes>"
      ]
     },
     "metadata": {},
     "output_type": "display_data"
    }
   ],
   "source": [
    "\n",
    "import matplotlib.pyplot as plt\n",
    "fig, axes = plt.subplots(ncols=2, figsize=(10,4))\n",
    "history_mlp.loss.plot.line(ax=axes[0])\n",
    "history_mlp.acc.plot.line(ax=axes[1]);"
   ]
  },
  {
   "cell_type": "markdown",
   "id": "4b6cb676-ec19-43d4-b0cf-df3a56b23833",
   "metadata": {
    "editable": false
   },
   "source": [
    "\n",
    "generating 2D hidden features and visualize the generated features as a scatter plot.\n",
    "\n",
    "- `MLP2DClassifier` neural network consisting of the following layers:\n",
    "\n",
    "- `linear1` is a linear layer with 100 neurons.\n",
    "- `act1` is the ReLU activation function for the `linear1` layer.\n",
    "- `linear2` is a linear layer that maps the 100 dimensional hidden feature to 2 dimensional feature.\n",
    "- `output` is a linear layer that maps the 2D feature to 3D logits.\n",
    "\n",
    "It is the output of `linear2` layer provides insight into how `x2 = act1(linear1(x))` works.\n",
    "\n",
    "- MLP2DClassifier` will have an additional method\n",
    "`hiddenFeature(x)` that will return the output of `linear2`."
   ]
  },
  {
   "cell_type": "code",
   "execution_count": null,
   "id": "b8a9025d",
   "metadata": {
    "tags": []
   },
   "outputs": [],
   "source": [
    "\n",
    "class MLP2DClassifier(nn.Module):\n",
    "    def __init__(self):\n",
    "        super().__init__()\n",
    "        self.linear1 = nn.Linear(4,100)\n",
    "        self.act1 = nn.ReLU()\n",
    "        self.linear2 = nn.Linear(100, 2)\n",
    "        self.output = nn.Linear(2,3)\n",
    "    def forward(self, x):\n",
    "        x = self.linear1(x)\n",
    "        x = self.act1(x)\n",
    "        x = self.linear2(x)\n",
    "        x = self.output(x)\n",
    "        \n",
    "        return x\n",
    "    \n",
    "    def hiddenFeature(self, x):\n",
    "        x = self.linear1(x)\n",
    "        x = self.act1(x)\n",
    "        x = self.linear2(x)\n",
    "        \n",
    "        return x"
   ]
  },
  {
   "cell_type": "code",
   "execution_count": null,
   "id": "ed63e0b5-5066-47be-887e-02845e62b04e",
   "metadata": {
    "editable": false,
    "tags": []
   },
   "outputs": [
    {
     "data": {
      "text/plain": [
       "==========================================================================================\n",
       "Layer (type:depth-idx)                   Output Shape              Param #\n",
       "==========================================================================================\n",
       "MLP2DClassifier                          [32, 3]                   --\n",
       "├─Linear: 1-1                            [32, 100]                 500\n",
       "├─ReLU: 1-2                              [32, 100]                 --\n",
       "├─Linear: 1-3                            [32, 2]                   202\n",
       "├─Linear: 1-4                            [32, 3]                   9\n",
       "==========================================================================================\n",
       "Total params: 711\n",
       "Trainable params: 711\n",
       "Non-trainable params: 0\n",
       "Total mult-adds (M): 0.02\n",
       "==========================================================================================\n",
       "Input size (MB): 0.00\n",
       "Forward/backward pass size (MB): 0.03\n",
       "Params size (MB): 0.00\n",
       "Estimated Total Size (MB): 0.03\n",
       "=========================================================================================="
      ]
     },
     "execution_count": 24,
     "metadata": {},
     "output_type": "execute_result"
    }
   ],
   "source": [
    "\n",
    "m = MLP2DClassifier()\n",
    "summary(m, input_size=(32, 4))"
   ]
  },
  {
   "cell_type": "code",
   "execution_count": null,
   "id": "337caff6-ca99-4477-8ffd-ca055b609681",
   "metadata": {
    "editable": false,
    "tags": []
   },
   "outputs": [
    {
     "name": "stdout",
     "output_type": "stream",
     "text": [
      "0: loss=1.3717, acc=0.23\n",
      "10: loss=0.5941, acc=0.86\n",
      "20: loss=0.3666, acc=0.95\n",
      "30: loss=0.2684, acc=0.95\n",
      "40: loss=0.2004, acc=0.95\n",
      "50: loss=0.1522, acc=0.95\n",
      "60: loss=0.1195, acc=0.95\n",
      "70: loss=0.0978, acc=0.95\n",
      "80: loss=0.0833, acc=0.95\n",
      "90: loss=0.0733, acc=0.95\n"
     ]
    }
   ],
   "source": [
    "mlp2 = MLP2DClassifier()\n",
    "optimizer = Adam(mlp2.parameters())\n",
    "dataloader = make_dataloader(train_dataset, shuffle=False, batch_size=32)\n",
    "\n",
    "history_mlp2 = train(mlp2, optimizer, dataloader, 100)"
   ]
  },
  {
   "cell_type": "code",
   "execution_count": null,
   "id": "9b6b8e17-4e1f-41ce-b935-70faeddeb8a1",
   "metadata": {
    "editable": false,
    "tags": []
   },
   "outputs": [
    {
     "data": {
      "text/plain": [
       "True"
      ]
     },
     "execution_count": 33,
     "metadata": {},
     "output_type": "execute_result"
    }
   ],
   "source": [
    "\n",
    "history_mlp2.acc.iloc[-1] > 0.9"
   ]
  },
  {
   "cell_type": "code",
   "execution_count": null,
   "id": "cc43ef68-0434-44a3-ae8b-9d79cdec730e",
   "metadata": {
    "editable": false,
    "tags": []
   },
   "outputs": [],
   "source": [
    "\n",
    "\n",
    "(x, target) = train_dataset[0:100]\n",
    "with torch.no_grad():\n",
    "    x2 = mlp2.hiddenFeature(x)"
   ]
  },
  {
   "cell_type": "code",
   "execution_count": null,
   "id": "1fb16c76-55ce-4754-8e29-bc1efb8ecc8d",
   "metadata": {
    "editable": false,
    "tags": []
   },
   "outputs": [
    {
     "data": {
      "text/plain": [
       "torch.Size([100, 2])"
      ]
     },
     "execution_count": 35,
     "metadata": {},
     "output_type": "execute_result"
    }
   ],
   "source": [
    "\n",
    "x2.shape"
   ]
  },
  {
   "cell_type": "code",
   "execution_count": null,
   "id": "d5b8d733-b362-4ca9-a0ac-2be9884dc09e",
   "metadata": {
    "editable": false,
    "tags": []
   },
   "outputs": [
    {
     "data": {
      "image/png": "[encoded data removed]",
      "text/plain": [
       "<Figure size 500x500 with 1 Axes>"
      ]
     },
     "metadata": {},
     "output_type": "display_data"
    }
   ],
   "source": [
    "\n",
    "\n",
    "I0 = target == 0\n",
    "I1 = target == 1\n",
    "I2 = target == 2\n",
    "\n",
    "plt.figure(figsize=(5,5))\n",
    "plt.plot(x2[I0, 0], x2[I0, 1], '*', color='red');\n",
    "plt.plot(x2[I1, 0], x2[I1, 1], '+', color='green');\n",
    "plt.plot(x2[I2, 0], x2[I2, 1], '^', color='blue');"
   ]
  },
  {
   "cell_type": "code",
   "execution_count": null,
   "id": "e239560b-051f-44a1-8601-5f25a57e3186",
   "metadata": {},
   "outputs": [],
   "source": []
  }
 ],
 "metadata": {
  "kernelspec": {
   "display_name": "Python 3 (ipykernel)",
   "language": "python",
   "name": "python3"
  },
  "language_info": {
   "codemirror_mode": {
    "name": "ipython",
    "version": 3
   },
   "file_extension": ".py",
   "mimetype": "text/x-python",
   "name": "python",
   "nbconvert_exporter": "python",
   "pygments_lexer": "ipython3",
   "version": "3.10.8"
  }
 },
 "nbformat": 4,
 "nbformat_minor": 5
}
